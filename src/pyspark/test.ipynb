{
 "cells": [
  {
   "cell_type": "code",
   "execution_count": 30,
   "metadata": {},
   "outputs": [],
   "source": [
    "from pyspark.sql import SparkSession \n",
    "import pyspark.sql.functions as F"
   ]
  },
  {
   "cell_type": "code",
   "execution_count": 31,
   "metadata": {},
   "outputs": [],
   "source": [
    "#Crée une session Spark\n",
    "spark = SparkSession.builder.master(\"local[*]\").appName(\"MigrationExample\").getOrCreate()"
   ]
  },
  {
   "cell_type": "code",
   "execution_count": 32,
   "metadata": {},
   "outputs": [],
   "source": [
    "# Données\n",
    "matrix = [\n",
    "\n",
    "[1, 34, 'Cardiology', 10],\n",
    "[2, 45, 'Neurology', 12],\n",
    "[3, 23, 'Cardiology', 5],\n",
    "[4, 64, 'Orthopedics', 8],\n",
    "[5, 52, 'Cardiology', 9],\n",
    "\n",
    "]\n",
    "\n",
    "columns = ['patient_id', 'age', 'department', 'visit_count']"
   ]
  },
  {
   "cell_type": "code",
   "execution_count": 33,
   "metadata": {},
   "outputs": [
    {
     "name": "stdout",
     "output_type": "stream",
     "text": [
      "+----------+---+-----------+-----------+\n",
      "|patient_id|age| department|visit_count|\n",
      "+----------+---+-----------+-----------+\n",
      "|         1| 34| Cardiology|         10|\n",
      "|         2| 45|  Neurology|         12|\n",
      "|         3| 23| Cardiology|          5|\n",
      "|         4| 64|Orthopedics|          8|\n",
      "|         5| 52| Cardiology|          9|\n",
      "+----------+---+-----------+-----------+\n",
      "\n"
     ]
    }
   ],
   "source": [
    "df = spark.createDataFrame(matrix, columns)\n",
    "\n",
    "df.show()"
   ]
  },
  {
   "cell_type": "markdown",
   "metadata": {},
   "source": [
    "### Réaliser des agrégations par département médical"
   ]
  },
  {
   "cell_type": "code",
   "execution_count": 34,
   "metadata": {},
   "outputs": [],
   "source": [
    "agg_df = df.groupBy(\"department\").agg(\n",
    "    F.sum(\"visit_count\").alias(\"total_visit_count\"),  # Somme de la colonne 'visit_count'\n",
    "    F.mean(\"age\").alias(\"mean_age\"),                 # Moyenne de la colonne 'age'\n",
    "    F.max(\"age\").alias(\"max_age\")                    # Valeur maximale de la colonne 'age'\n",
    ")"
   ]
  },
  {
   "cell_type": "code",
   "execution_count": 35,
   "metadata": {},
   "outputs": [
    {
     "name": "stdout",
     "output_type": "stream",
     "text": [
      "+-----------+-----------------+------------------+-------+\n",
      "| department|total_visit_count|          mean_age|max_age|\n",
      "+-----------+-----------------+------------------+-------+\n",
      "| Cardiology|               24|36.333333333333336|     52|\n",
      "|  Neurology|               12|              45.0|     45|\n",
      "|Orthopedics|                8|              64.0|     64|\n",
      "+-----------+-----------------+------------------+-------+\n",
      "\n"
     ]
    }
   ],
   "source": [
    "agg_df.show()"
   ]
  }
 ],
 "metadata": {
  "kernelspec": {
   "display_name": "Python 3 (ipykernel)",
   "language": "python",
   "name": "python3"
  },
  "language_info": {
   "codemirror_mode": {
    "name": "ipython",
    "version": 3
   },
   "file_extension": ".py",
   "mimetype": "text/x-python",
   "name": "python",
   "nbconvert_exporter": "python",
   "pygments_lexer": "ipython3",
   "version": "3.11.6"
  }
 },
 "nbformat": 4,
 "nbformat_minor": 2
}
