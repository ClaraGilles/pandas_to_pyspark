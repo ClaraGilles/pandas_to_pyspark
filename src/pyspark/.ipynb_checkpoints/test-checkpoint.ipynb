{
 "cells": [
  {
   "cell_type": "code",
   "execution_count": 30,
   "metadata": {},
   "outputs": [],
   "source": [
    "from pyspark.sql import SparkSession \n",
    "import pyspark.sql.functions as F"
   ]
  },
  {
   "cell_type": "code",
   "execution_count": 31,
   "metadata": {},
   "outputs": [],
   "source": [
    "#Crée une session Spark\n",
    "spark = SparkSession.builder.master(\"local[*]\").appName(\"MigrationExample\").getOrCreate()"
   ]
  },
  {
   "cell_type": "code",
   "execution_count": 32,
   "metadata": {},
   "outputs": [],
   "source": [
    "# Données\n",
    "matrix = [\n",
    "\n",
    "[1, 34, 'Cardiology', 10],\n",
    "[2, 45, 'Neurology', 12],\n",
    "[3, 23, 'Cardiology', 5],\n",
    "[4, 64, 'Orthopedics', 8],\n",
    "[5, 52, 'Cardiology', 9],\n",
    "\n",
    "]\n",
    "\n",
    "columns = ['patient_id', 'age', 'department', 'visit_count']"
   ]
  },
  {
   "cell_type": "code",
   "execution_count": 33,
   "metadata": {},
   "outputs": [
    {
     "name": "stdout",
     "output_type": "stream",
     "text": [
      "+----------+---+-----------+-----------+\n",
      "|patient_id|age| department|visit_count|\n",
      "+----------+---+-----------+-----------+\n",
      "|         1| 34| Cardiology|         10|\n",
      "|         2| 45|  Neurology|         12|\n",
      "|         3| 23| Cardiology|          5|\n",
      "|         4| 64|Orthopedics|          8|\n",
      "|         5| 52| Cardiology|          9|\n",
      "+----------+---+-----------+-----------+\n",
      "\n"
     ]
    }
   ],
   "source": [
    "df = spark.createDataFrame(matrix, columns)\n",
    "\n",
    "df.show()"
   ]
  },
  {
   "cell_type": "markdown",
   "metadata": {},
   "source": [
    "### Réaliser des agrégations par département médical"
   ]
  },
  {
   "cell_type": "code",
   "execution_count": 34,
   "metadata": {},
   "outputs": [],
   "source": [
    "agg_df = df.groupBy(\n",
    "    \"department\").agg(\n",
    "    F.sum(\"visit_count\").alias(\"total_visit_count\"),  # Somme de la colonne 'visit_count'\n",
    "    F.mean(\"age\").alias(\"mean_age\"),                 # Moyenne de la colonne 'age'\n",
    "    F.max(\"age\").alias(\"max_age\")                    # Valeur maximale de la colonne 'age'\n",
    ")"
   ]
  },
  {
   "cell_type": "code",
   "execution_count": 35,
   "metadata": {},
   "outputs": [
    {
     "name": "stdout",
     "output_type": "stream",
     "text": [
      "+-----------+-----------------+------------------+-------+\n",
      "| department|total_visit_count|          mean_age|max_age|\n",
      "+-----------+-----------------+------------------+-------+\n",
      "| Cardiology|               24|36.333333333333336|     52|\n",
      "|  Neurology|               12|              45.0|     45|\n",
      "|Orthopedics|                8|              64.0|     64|\n",
      "+-----------+-----------------+------------------+-------+\n",
      "\n"
     ]
    }
   ],
   "source": [
    "agg_df.show()"
   ]
  },
  {
   "cell_type": "code",
   "execution_count": 51,
   "metadata": {},
   "outputs": [
    {
     "name": "stdout",
     "output_type": "stream",
     "text": [
      "+------------+-------------+---------------+--------------------------+\n",
      "|patient_name|diagnosis    |diagnosis_lower|full_info                 |\n",
      "+------------+-------------+---------------+--------------------------+\n",
      "|John Doe    |Diabetes     |diabetes       |John Doe - diabetes       |\n",
      "|Jane Smith  |Heart Disease|heart disease  |Jane Smith - heart disease|\n",
      "|Alice Brown |Hypertension |hypertension   |Alice Brown - hypertension|\n",
      "+------------+-------------+---------------+--------------------------+\n",
      "\n"
     ]
    }
   ],
   "source": [
    "data = [\n",
    "    ('John Doe', 'Diabetes'),\n",
    "    ('Jane Smith', 'Heart Disease'),\n",
    "    ('Alice Brown', 'Hypertension')\n",
    "]\n",
    "\n",
    "# Création du DataFrame PySpark\n",
    "columns = ['patient_name', 'diagnosis']\n",
    "df2 = spark.createDataFrame(\n",
    "    data, schema=columns)\n",
    "\n",
    "# Conversion en minuscules et ajout d'un champ\n",
    "df2 = df2.withColumn(\n",
    "    \"diagnosis_lower\", F.lower(\"diagnosis\"))\n",
    "df2 = df2.withColumn(\n",
    "    \"full_info\", F.concat_ws(' - ', \n",
    "                      df2.patient_name, \n",
    "                      df2.diagnosis_lower))\n",
    "\n",
    "df2.show(\n",
    "    truncate = False)"
   ]
  },
  {
   "cell_type": "code",
   "execution_count": 52,
   "metadata": {},
   "outputs": [
    {
     "data": {
      "text/html": [
       "<div>\n",
       "<style scoped>\n",
       "    .dataframe tbody tr th:only-of-type {\n",
       "        vertical-align: middle;\n",
       "    }\n",
       "\n",
       "    .dataframe tbody tr th {\n",
       "        vertical-align: top;\n",
       "    }\n",
       "\n",
       "    .dataframe thead th {\n",
       "        text-align: right;\n",
       "    }\n",
       "</style>\n",
       "<table border=\"1\" class=\"dataframe\">\n",
       "  <thead>\n",
       "    <tr style=\"text-align: right;\">\n",
       "      <th></th>\n",
       "      <th>patient_id</th>\n",
       "      <th>age</th>\n",
       "      <th>department</th>\n",
       "      <th>age_category</th>\n",
       "    </tr>\n",
       "  </thead>\n",
       "  <tbody>\n",
       "    <tr>\n",
       "      <th>0</th>\n",
       "      <td>1</td>\n",
       "      <td>34</td>\n",
       "      <td>Cardiology</td>\n",
       "      <td>adult</td>\n",
       "    </tr>\n",
       "    <tr>\n",
       "      <th>1</th>\n",
       "      <td>2</td>\n",
       "      <td>70</td>\n",
       "      <td>Neurology</td>\n",
       "      <td>senior</td>\n",
       "    </tr>\n",
       "    <tr>\n",
       "      <th>2</th>\n",
       "      <td>3</td>\n",
       "      <td>50</td>\n",
       "      <td>Orthopedics</td>\n",
       "      <td>adult</td>\n",
       "    </tr>\n",
       "    <tr>\n",
       "      <th>3</th>\n",
       "      <td>4</td>\n",
       "      <td>20</td>\n",
       "      <td>Cardiology</td>\n",
       "      <td>adult</td>\n",
       "    </tr>\n",
       "    <tr>\n",
       "      <th>4</th>\n",
       "      <td>5</td>\n",
       "      <td>15</td>\n",
       "      <td>Neurology</td>\n",
       "      <td>minor</td>\n",
       "    </tr>\n",
       "  </tbody>\n",
       "</table>\n",
       "</div>"
      ],
      "text/plain": [
       "   patient_id  age   department age_category\n",
       "0           1   34   Cardiology        adult\n",
       "1           2   70    Neurology       senior\n",
       "2           3   50  Orthopedics        adult\n",
       "3           4   20   Cardiology        adult\n",
       "4           5   15    Neurology        minor"
      ]
     },
     "execution_count": 52,
     "metadata": {},
     "output_type": "execute_result"
    }
   ],
   "source": [
    "import pandas as pd\n",
    "\n",
    "# Données\n",
    "df = pd.DataFrame(\n",
    "    {\n",
    "        'patient_id': [1, 2, 3, 4, 5],\n",
    "        'age': [34, 70, 50, 20, 15],\n",
    "        'department': [\n",
    "            'Cardiology',\n",
    "            'Neurology',\n",
    "            'Orthopedics',\n",
    "            'Cardiology',\n",
    "            'Neurology',\n",
    "        ],\n",
    "    }\n",
    ")\n",
    "\n",
    "# Ajout d'une colonne conditionnelle (catégorie d'âge)\n",
    "df['age_category'] = df['age'].apply(\n",
    "    lambda x: 'senior' if x > 60 else 'adult' if x > 18 else 'minor'\n",
    ")\n",
    "\n",
    "df"
   ]
  },
  {
   "cell_type": "code",
   "execution_count": 60,
   "metadata": {},
   "outputs": [
    {
     "name": "stdout",
     "output_type": "stream",
     "text": [
      "+----------+---+-----------+\n",
      "|patient_id|age| department|\n",
      "+----------+---+-----------+\n",
      "|         1| 34| Cardiology|\n",
      "|         2| 70|  Neurology|\n",
      "|         3| 50|Orthopedics|\n",
      "|         4| 20| Cardiology|\n",
      "|         5| 15|  Neurology|\n",
      "+----------+---+-----------+\n",
      "\n",
      "+----------+---+-----------+------------+\n",
      "|patient_id|age| department|age_category|\n",
      "+----------+---+-----------+------------+\n",
      "|         1| 34| Cardiology|       adult|\n",
      "|         2| 70|  Neurology|      senior|\n",
      "|         3| 50|Orthopedics|       adult|\n",
      "|         4| 20| Cardiology|       adult|\n",
      "|         5| 15|  Neurology|       minor|\n",
      "+----------+---+-----------+------------+\n",
      "\n"
     ]
    }
   ],
   "source": [
    "# Données sous forme de liste de tuples\n",
    "data = [\n",
    "    (1, 34, 'Cardiology'),\n",
    "    (2, 70, 'Neurology'),\n",
    "    (3, 50, 'Orthopedics'),\n",
    "    (4, 20, 'Cardiology'),\n",
    "    (5, 15, 'Neurology')\n",
    "]\n",
    "\n",
    "# Création du DataFrame PySpark\n",
    "columns = ['patient_id', 'age', 'department']\n",
    "df3 = spark.createDataFrame(\n",
    "    data, schema=columns)\n",
    "\n",
    "df3.show()\n",
    "\n",
    "# Ajout d'une colonne conditionnelle (catégorie d'âge)\n",
    "df3 = df3.withColumn(\n",
    "    'age_category', \n",
    "    F.when(df3.age > 60, 'senior')\n",
    "    .when(df3.age > 18, 'adult')\n",
    "    .otherwise('minor'))\n",
    "\n",
    "df3.show()"
   ]
  },
  {
   "cell_type": "code",
   "execution_count": 66,
   "metadata": {},
   "outputs": [
    {
     "name": "stdout",
     "output_type": "stream",
     "text": [
      "   patient_id   age   department\n",
      "0           1  34.0   Cardiology\n",
      "1           2   NaN    Neurology\n",
      "2           3  50.0  Orthopedics\n",
      "3           4   NaN          NaN\n",
      "4           5  15.0    Neurology\n"
     ]
    },
    {
     "data": {
      "text/html": [
       "<div>\n",
       "<style scoped>\n",
       "    .dataframe tbody tr th:only-of-type {\n",
       "        vertical-align: middle;\n",
       "    }\n",
       "\n",
       "    .dataframe tbody tr th {\n",
       "        vertical-align: top;\n",
       "    }\n",
       "\n",
       "    .dataframe thead th {\n",
       "        text-align: right;\n",
       "    }\n",
       "</style>\n",
       "<table border=\"1\" class=\"dataframe\">\n",
       "  <thead>\n",
       "    <tr style=\"text-align: right;\">\n",
       "      <th></th>\n",
       "      <th>patient_id</th>\n",
       "      <th>age</th>\n",
       "      <th>department</th>\n",
       "    </tr>\n",
       "  </thead>\n",
       "  <tbody>\n",
       "    <tr>\n",
       "      <th>0</th>\n",
       "      <td>1</td>\n",
       "      <td>34.0</td>\n",
       "      <td>Cardiology</td>\n",
       "    </tr>\n",
       "    <tr>\n",
       "      <th>1</th>\n",
       "      <td>2</td>\n",
       "      <td>33.0</td>\n",
       "      <td>Neurology</td>\n",
       "    </tr>\n",
       "    <tr>\n",
       "      <th>2</th>\n",
       "      <td>3</td>\n",
       "      <td>50.0</td>\n",
       "      <td>Orthopedics</td>\n",
       "    </tr>\n",
       "    <tr>\n",
       "      <th>3</th>\n",
       "      <td>4</td>\n",
       "      <td>33.0</td>\n",
       "      <td>Unknown</td>\n",
       "    </tr>\n",
       "    <tr>\n",
       "      <th>4</th>\n",
       "      <td>5</td>\n",
       "      <td>15.0</td>\n",
       "      <td>Neurology</td>\n",
       "    </tr>\n",
       "  </tbody>\n",
       "</table>\n",
       "</div>"
      ],
      "text/plain": [
       "   patient_id   age   department\n",
       "0           1  34.0   Cardiology\n",
       "1           2  33.0    Neurology\n",
       "2           3  50.0  Orthopedics\n",
       "3           4  33.0      Unknown\n",
       "4           5  15.0    Neurology"
      ]
     },
     "execution_count": 66,
     "metadata": {},
     "output_type": "execute_result"
    }
   ],
   "source": [
    "import numpy as np\n",
    "import pandas as pd\n",
    "\n",
    "# Données avec des valeurs manquantes\n",
    "df = pd.DataFrame(\n",
    "    {\n",
    "        'patient_id': [1, 2, 3, 4, 5],\n",
    "        'age': [34, np.nan, 50, np.nan, 15],\n",
    "        'department': ['Cardiology', 'Neurology', 'Orthopedics', np.nan, 'Neurology'],\n",
    "    }\n",
    ")\n",
    "print(df)\n",
    "\n",
    "# Remplacement des valeurs manquantes\n",
    "df['age'].fillna(df['age'].mean(), inplace=True)\n",
    "df['department'].fillna('Unknown', inplace=True)\n",
    "\n",
    "df"
   ]
  },
  {
   "cell_type": "code",
   "execution_count": 78,
   "metadata": {},
   "outputs": [
    {
     "name": "stdout",
     "output_type": "stream",
     "text": [
      "La moyenne des âges en ignorant les NaN est : nan\n"
     ]
    }
   ],
   "source": [
    "# Données sous forme de liste de tuples avec des valeurs manquantes (None pour null)\n",
    "data = [\n",
    "    (1, 34.0, 'Cardiology'),\n",
    "    (2, float('nan'), 'Neurology'),\n",
    "    (3, 50.0, 'Orthopedics'),\n",
    "    (4, float('nan'), float('nan')),\n",
    "    (5, 15.0, 'Neurology')\n",
    "]\n",
    "\n",
    "# Noms des colonnes\n",
    "columns = ['patient_id', 'age', 'department']\n",
    "\n",
    "# Création du DataFrame PySpark\n",
    "df = spark.createDataFrame(data, columns)\n",
    "\n",
    "# Calcul de la moyenne de la colonne 'age', en ignorant les NaN\n",
    "mean_age = df.select(F.avg(F.col('age'))).first()[0]\n",
    "\n",
    "# Affichage de la moyenne des âges\n",
    "print(f\"La moyenne des âges en ignorant les NaN est : {mean_age}\")\n",
    "\n",
    "\n"
   ]
  }
 ],
 "metadata": {
  "kernelspec": {
   "display_name": "Python 3 (ipykernel)",
   "language": "python",
   "name": "python3"
  },
  "language_info": {
   "codemirror_mode": {
    "name": "ipython",
    "version": 3
   },
   "file_extension": ".py",
   "mimetype": "text/x-python",
   "name": "python",
   "nbconvert_exporter": "python",
   "pygments_lexer": "ipython3",
   "version": "3.11.6"
  }
 },
 "nbformat": 4,
 "nbformat_minor": 2
}
